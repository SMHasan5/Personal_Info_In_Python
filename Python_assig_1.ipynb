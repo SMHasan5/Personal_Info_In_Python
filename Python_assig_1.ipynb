{
  "cells": [
    {
      "cell_type": "code",
      "source": [
        "from datetime import datetime\n",
        "\n",
        "name = input(\"Enter your name: \")\n",
        "dob = input(\"Enter your date of birth (MM/DD/YYYY): \")\n",
        "hght_ft = float(input(\"Enter your height in feets: \"))\n",
        "hght_in = float(input(\"Enter your height in inches: \"))\n",
        "weight_kg = float(input(\"Enter your weight in kg: \"))\n",
        "\n",
        "dob = datetime.strptime(dob, '%m/%d/%Y')\n",
        "today = datetime.now()\n",
        "age = today.year - dob.year - ((today.month, today.day) < (dob.month, dob.day))\n",
        "next_birthday = datetime(today.year, dob.month, dob.day)\n",
        "if (next_birthday < today):\n",
        "    next_birthday = datetime(today.year+1, dob.month, dob.day)\n",
        "days_to_birthday = (next_birthday - today).days\n",
        "\n",
        "height_cm = (hght_ft * 12 + hght_in) * 2.54\n",
        "weight_lb = weight_kg * 2.20462\n",
        "\n",
        "\n",
        "print(\"Your age today is:\", age)\n",
        "print(\"Days remaining until your next birthday is:\", days_to_birthday)\n",
        "print(\"Your weight in pounds is:\", round(weight_lb, 2))\n",
        "print(\"Your height in centimeters is:\", round(height_cm, 2))\n",
        "if (days_to_birthday <= 90):\n",
        "    print(\"Happy birthday buddy!\")\n",
        "else:\n",
        "    print(\"Come on man, your birthday is more than 3 months away.\")"
      ],
      "metadata": {
        "colab": {
          "base_uri": "https://localhost:8080/"
        },
        "id": "JYUIP4vg0nAd",
        "outputId": "a781cfd3-35c0-4ea1-a4d3-ed7ce9d9d1f5"
      },
      "execution_count": 1,
      "outputs": [
        {
          "output_type": "stream",
          "name": "stdout",
          "text": [
            "Enter your name: Muhammad Hasan \n",
            "Enter your date of birth (MM/DD/YYYY): 02/18/2004\n",
            "Enter your height in feets: 5.7\n",
            "Enter your height in inches: 60\n",
            "Enter your weight in kg: 70.5\n",
            "Your age today is: 19\n",
            "Days remaining until your next birthday is: 283\n",
            "Your weight in pounds is: 155.43\n",
            "Your height in centimeters is: 326.14\n",
            "Come on man, your birthday is more than 3 months away.\n"
          ]
        }
      ]
    }
  ],
  "metadata": {
    "colab": {
      "name": "Welcome To Colaboratory",
      "toc_visible": true,
      "provenance": []
    },
    "kernelspec": {
      "display_name": "Python 3",
      "name": "python3"
    }
  },
  "nbformat": 4,
  "nbformat_minor": 0
}